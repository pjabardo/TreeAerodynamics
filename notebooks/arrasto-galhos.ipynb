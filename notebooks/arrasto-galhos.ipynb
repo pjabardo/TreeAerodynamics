{
 "cells": [
  {
   "cell_type": "markdown",
   "metadata": {},
   "source": [
    "# Força de arrasto dos galhos"
   ]
  },
  {
   "cell_type": "code",
   "execution_count": null,
   "metadata": {},
   "outputs": [],
   "source": [
    "require(wutils)"
   ]
  },
  {
   "cell_type": "code",
   "execution_count": null,
   "metadata": {},
   "outputs": [],
   "source": [
    "V1 <- c(3.3, 4.9, 6.6, 8.2, 9.8, 11.5, 13.1)\n",
    "Ca1 <- c(0.94, 0.77, 0.64, 0.56, 0.5, 0.44, 0.41)\n",
    "V2 <- c(4.1, 6.2, 8.2, 10.3, 12.4, 14.4, 16.5)\n",
    "Ca2 <- c(1.8, 1.35, 1.07, 0.9, 0.81, 0.75, 0.73)\n",
    "\n",
    "V3 <- c(3.3, 4.9, 6.6, 8.2, 9.8, 11.5, 13.1)\n",
    "Ca3 <- c(1.79, 1.38, 1.06, 0.88, 0.74, 0.66, 0.6)\n",
    "V4 <- c(4.1, 6.2, 8.2, 10.3, 12.4, 14.4, 16.5)\n",
    "Ca4 <- Ca2"
   ]
  },
  {
   "cell_type": "code",
   "execution_count": null,
   "metadata": {},
   "outputs": [],
   "source": [
    "plot(V1, Ca1, ty='b', log='y', xlim=range(V1,V2), ylim=range(Ca1, Ca2))\n",
    "points(V2, Ca2, col=2, pch=2, ty='b')\n",
    "lines(V1, 2*V1^(-0.61), lwd=3)"
   ]
  },
  {
   "cell_type": "code",
   "execution_count": null,
   "metadata": {},
   "outputs": [],
   "source": [
    "powerFit(V1-0.4, Ca1)\n"
   ]
  },
  {
   "cell_type": "code",
   "execution_count": null,
   "metadata": {},
   "outputs": [],
   "source": [
    "\n",
    "cdfun <- function(v) 2*v^(-0.612)"
   ]
  },
  {
   "cell_type": "code",
   "execution_count": null,
   "metadata": {},
   "outputs": [],
   "source": [
    "plot(V1, Ca1, ty='b', log='x')\n",
    "fun <- function(v) -0.1553/0.4 * log(v/35.78)\n",
    "lines(V1, fun(V1), col=2, lwd=2)"
   ]
  },
  {
   "cell_type": "code",
   "execution_count": null,
   "metadata": {},
   "outputs": [],
   "source": [
    "plot(V1, log(Ca1-0.3), ty='b')"
   ]
  },
  {
   "cell_type": "code",
   "execution_count": null,
   "metadata": {},
   "outputs": [],
   "source": [
    "d <- read.table('../../coords/galho.txt', stringsAsFactors = FALSE, dec=',', sep='\\t')\n",
    "\n"
   ]
  },
  {
   "cell_type": "code",
   "execution_count": null,
   "metadata": {},
   "outputs": [],
   "source": [
    "fitKing"
   ]
  },
  {
   "cell_type": "code",
   "execution_count": null,
   "metadata": {},
   "outputs": [],
   "source": [
    "log(10/3)"
   ]
  },
  {
   "cell_type": "code",
   "execution_count": null,
   "metadata": {},
   "outputs": [],
   "source": [
    "linearFit(0:10, (0:10)*2 - 5)"
   ]
  },
  {
   "cell_type": "code",
   "execution_count": null,
   "metadata": {},
   "outputs": [],
   "source": [
    "cdfit <- function(v, cd){\n",
    "    \n",
    "    errfun <- function(p){\n",
    "        sum( (cd-p[1] - p[2]*exp(p[3]*v))^2 )\n",
    "    }\n",
    "    cdmin <- min(cd)*0.8\n",
    "    p1 <- linearFit(v, log(cd-cdmin))\n",
    "    p <- c(cdmin, exp(p1[1]), p1[2])\n",
    "    nonlin <- nlm(errfun, p=p)\n",
    "    return(nonlin$estimate)\n",
    "    \n",
    "}"
   ]
  },
  {
   "cell_type": "code",
   "execution_count": null,
   "metadata": {},
   "outputs": [],
   "source": [
    "p <- cdfit(V1, Ca1)\n",
    "cdfun <- function(v,p){ p[1] + p[2]*exp(p[3]*v)}\n",
    "plot(V1, Ca1)\n",
    "lines(V1, cdfun(V1, p), lwd=2, col=2)\n",
    "p1 <- c(0.32, 1.18, -0.196)\n",
    "lines(V1, cdfun(V1, p1), lwd=2, col=3)\n"
   ]
  },
  {
   "cell_type": "code",
   "execution_count": null,
   "metadata": {},
   "outputs": [],
   "source": [
    "cdfun(0.000000000, p)"
   ]
  },
  {
   "cell_type": "code",
   "execution_count": null,
   "metadata": {},
   "outputs": [],
   "source": [
    "p"
   ]
  },
  {
   "cell_type": "code",
   "execution_count": null,
   "metadata": {},
   "outputs": [],
   "source": [
    "pi"
   ]
  }
 ],
 "metadata": {
  "kernelspec": {
   "display_name": "R",
   "language": "R",
   "name": "ir"
  },
  "language_info": {
   "codemirror_mode": "r",
   "file_extension": ".r",
   "mimetype": "text/x-r-source",
   "name": "R",
   "pygments_lexer": "r",
   "version": "3.5.0"
  }
 },
 "nbformat": 4,
 "nbformat_minor": 2
}
