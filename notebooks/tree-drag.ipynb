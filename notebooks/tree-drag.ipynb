{
 "cells": [
  {
   "cell_type": "code",
   "execution_count": null,
   "metadata": {},
   "outputs": [],
   "source": [
    "using JLD2, FileIO"
   ]
  },
  {
   "cell_type": "code",
   "execution_count": null,
   "metadata": {},
   "outputs": [],
   "source": [
    "using Plots\n",
    "gr(html_output_format=:png)\n",
    "\n"
   ]
  },
  {
   "cell_type": "code",
   "execution_count": null,
   "metadata": {},
   "outputs": [],
   "source": [
    "include(\"../src/TreeAerodynamics.jl\")\n"
   ]
  },
  {
   "cell_type": "code",
   "execution_count": null,
   "metadata": {},
   "outputs": [],
   "source": [
    "D0 = 0.8\n",
    "\n",
    "η1 = [0.0, 0.1, 0.25, 0.40, 0.55, 0.7, 0.849, 1.0, 1.15, 1.30, 1.45, 1.6, 1.8, 2, 2.5, 3, 3.5, 4, 5];\n",
    "x1 = TA.geomseq(0.0, 100*D0, 30, 1.12); \n",
    "\n",
    "#wakes = [TA.wake2d(wm, x1, η1) for i in 1:nb];"
   ]
  },
  {
   "cell_type": "code",
   "execution_count": null,
   "metadata": {},
   "outputs": [],
   "source": [
    "Cd = TA.DragCoeff(1.18, 0.32, 0.2)\n",
    "branch = TA.Branch2d(D0, Cd, 0.0, 0.0)\n",
    "branches2 = TA.HexagonTree(branch);\n",
    "branches3 = TA.HexagonTree(branches2);\n",
    "branches4 = TA.HexagonTree(branches3);\n",
    "branches5 = TA.HexagonTree(branches4);\n",
    "uoofun1(x,y) = (10.0, 0.0)\n",
    "#Uoo = 20.0:-2.0:2.0\n",
    "Uoo = [40; 30; 25; 22; 20:-2.0:2]"
   ]
  },
  {
   "cell_type": "code",
   "execution_count": null,
   "metadata": {},
   "outputs": [],
   "source": [
    "function simulatevels(branches, Uoo, x, η; err=1e-5, rlx=0.2)\n",
    "    \n",
    "    nu = length(Uoo)\n",
    "    nb = length(branches)\n",
    "    drag = []\n",
    "    \n",
    "    println(\"%%%%%%%%%%%%%%%%%%%%%%%%%%%%%%%%%%%%%%%%%\")\n",
    "    println(\"Vel: \", Uoo[1])\n",
    "    push!(drag, TA.velinterference(branches, (x,y)->(Uoo[1], 0.0), x, η; err=err, rlx=rlx))\n",
    "    \n",
    "    for i = 2:nu\n",
    "    println(\"%%%%%%%%%%%%%%%%%%%%%%%%%%%%%%%%%%%%%%%%%\")\n",
    "    println(\"Vel: \", Uoo[i])\n",
    "        fun = (x,y) -> (Uoo[i], 0.0)\n",
    "        Ux = drag[i-1][1] .* Uoo[i]/Uoo[i-1]\n",
    "        Uy = drag[i-1][1] .* Uoo[i]/Uoo[i-1]\n",
    "        rlx = min(0.2, rlx*1.5)\n",
    "        push!(drag, TA.velinterference(branches, fun, x, η, err=err, rlx=rlx, Uxinit=Ux, Uyinit=Uy))\n",
    "    end\n",
    "    \n",
    "    return drag\n",
    "    \n",
    "    \n",
    "end"
   ]
  },
  {
   "cell_type": "code",
   "execution_count": null,
   "metadata": {},
   "outputs": [],
   "source": [
    "drag2 = simulatevels(branches2.branches, Uoo, x1, η1; err=1e-5, rlx=0.1)"
   ]
  },
  {
   "cell_type": "code",
   "execution_count": null,
   "metadata": {},
   "outputs": [],
   "source": [
    "drag3 = simulatevels(branches3.branches, Uoo, x1, η1; err=1e-4,rlx=0.1)"
   ]
  },
  {
   "cell_type": "code",
   "execution_count": null,
   "metadata": {},
   "outputs": [],
   "source": [
    "drag4 = simulatevels(branches4.branches, Uoo, x1, η1; err=1e-4, rlx=0.03)"
   ]
  },
  {
   "cell_type": "code",
   "execution_count": null,
   "metadata": {},
   "outputs": [],
   "source": [
    "@save \"circle2.jld2\" Cd, branch, branches2, branches3, drag2, drag3"
   ]
  },
  {
   "cell_type": "code",
   "execution_count": null,
   "metadata": {},
   "outputs": [],
   "source": [
    "Ux2 = hcat([d[1] for d in drag2]...)\n",
    "Uy2 = hcat([d[2] for d in drag2]...)\n",
    "Cd2 = hcat([d[3] for d in drag2]...)\n",
    "xc2 = [b.xc for b in branches2.branches]\n",
    "yc2 = [b.yc for b in branches2.branches]        \n",
    "D2 = TA.diameter(branches2)\n",
    "\n",
    "Ux3 = hcat([d[1] for d in drag3]...)\n",
    "Uy3 = hcat([d[2] for d in drag3]...)\n",
    "Cd3 = hcat([d[3] for d in drag3]...)\n",
    "xc3 = [b.xc for b in branches3.branches]\n",
    "yc3 = [b.yc for b in branches3.branches];\n",
    "D3 = TA.diameter(branches3)\n"
   ]
  },
  {
   "cell_type": "code",
   "execution_count": null,
   "metadata": {
    "slideshow": {
     "slide_type": "subslide"
    }
   },
   "outputs": [],
   "source": [
    "maximum(abs, Uy3b - Uy3[:,5:end])"
   ]
  },
  {
   "cell_type": "code",
   "execution_count": null,
   "metadata": {},
   "outputs": [],
   "source": [
    "scatter(xc2, yc2, aspect_ratio=1.0, color=:green)\n",
    "ii = 1\n",
    "quiver!(xc2, yc2, gradient=(Ux2[:,ii]./2Uoo[ii], Uy2[:,ii]./2Uoo[ii]), color=:red)\n",
    "ii = 14\n",
    "quiver!(xc2, yc2, gradient=(Ux2[:,ii]./2Uoo[ii], Uy2[:,ii]./2Uoo[ii]), color=:blue)\n"
   ]
  },
  {
   "cell_type": "code",
   "execution_count": null,
   "metadata": {},
   "outputs": [],
   "source": [
    "scatter(xc3, yc3, aspect_ratio=1.0, color=:green)\n",
    "ii = 1\n",
    "quiver!(xc3, yc3, gradient=(2Ux3[:,ii]./Uoo[ii], 2Uy3[:,ii]./2Uoo[ii]), color=:red)\n",
    "ii = 10\n",
    "quiver!(xc3, yc3, gradient=(2Ux3[:,ii]./Uoo[ii], 2Uy3[:,ii]./2Uoo[ii]), color=:blue)\n"
   ]
  },
  {
   "cell_type": "code",
   "execution_count": null,
   "metadata": {},
   "outputs": [],
   "source": [
    "function forcetot(branches, Ux, Uy, ρ=1.2)\n",
    "\n",
    "    Fx = 0.0\n",
    "    Fy = 0.0\n",
    "    nb = length(branches)\n",
    "    for i = 1:nb\n",
    "        ux = Ux[i]\n",
    "        uy = Uy[i]\n",
    "        U = hypot(ux, uy)\n",
    "        Cd = TA.dragcoeff(branches[i], U)\n",
    "        D = TA.diameter(branches[i])\n",
    "        α = atan(uy, ux)\n",
    "        cα = cos(α)\n",
    "        sα = sin(α)\n",
    "        fi = 0.5 * ρ * Cd * D * U^2\n",
    "        \n",
    "        Fx += fi*cα\n",
    "        Fy += fi*sα\n",
    "    end\n",
    "\n",
    "    return Fx, Fy\n",
    "end\n",
    "\n",
    "function force(branch, ux, uy, ρ=1.2)\n",
    "\n",
    "    U = hypot(ux, uy)\n",
    "    Cd = TA.dragcoeff(branch, U)\n",
    "    D = TA.diameter(branch)\n",
    "    α = atan(uy, ux)\n",
    "    cα = cos(α)\n",
    "    sα = sin(α)\n",
    "    fi = 0.5 * ρ * Cd * D * U^2\n",
    "        \n",
    "    Fx = fi*cα\n",
    "    Fy = fi*sα\n",
    "    \n",
    "\n",
    "    return Fx, Fy\n",
    "end\n",
    "\n",
    "\n",
    "function forcecoef(branches, Ux, Uy, Uoo, Lref)\n",
    "    ρ = 1.0\n",
    "    Fx, Fy = forcetot(branches, Ux, Uy, 1.0)\n",
    "    CFx = Fx / (0.5 * ρ * Lref * Uoo^2)\n",
    "    CFy = Fy / (0.5 * ρ * Lref * Uoo^2)    \n",
    "    \n",
    "    return CFx, CFy\n",
    "end\n",
    "\n"
   ]
  },
  {
   "cell_type": "code",
   "execution_count": null,
   "metadata": {},
   "outputs": [],
   "source": [
    "D1 = TA.diameter(branch)\n",
    "D2 = TA.diameter(branches2)\n",
    "D3 = TA.diameter(branches3)\n",
    "CFx1 = [force(branch, uoo, 0.0, 1.0)[1]/(0.5 * D1 * uoo^2) for uoo in Uoo]\n",
    "CFx2 = [forcecoef(branches2.branches , Ux2[:,i], Uy2[:,i], Uoo[i], D2)[1] for i in 1:length(Uoo)]\n",
    "CFx3 = [forcecoef(branches3.branches , Ux3[:,i], Uy3[:,i], Uoo[i], D3)[1] for i in 1:length(Uoo)]\n",
    "CFx = [CFx1 CFx2 CFx3]\n",
    "d = [D1, D2, D3]"
   ]
  },
  {
   "cell_type": "code",
   "execution_count": null,
   "metadata": {},
   "outputs": [],
   "source": [
    "rr = copy(CFx)\n",
    "for i = 1:size(rr, 1)\n",
    "    rr[i,:] = rr[i,:] / CFx[i,1]\n",
    "end\n",
    "#plot(d, CFx[1,:]/CFx[1,1], xscale=:log10, markershape=:circle, color=1)\n",
    "plot(d, rr', xscale=:log10, markershape=:circle)\n",
    "#plot!(d, CFx[2,:]/CFx[2,1], markershape=:circle, color=2)\n",
    "#for i in 2:10 \n",
    "#    plot!(p, d, CFx[i,:]/CFx[i,1], markershape=:circle, color=i)\n",
    "#end\n",
    "#show(p)\n",
    "#plot!(d, CFx[2,:] marker = (markershape=:circle, color=:))\n"
   ]
  },
  {
   "cell_type": "code",
   "execution_count": null,
   "metadata": {},
   "outputs": [],
   "source": [
    "CFx[1,:], d"
   ]
  },
  {
   "cell_type": "code",
   "execution_count": null,
   "metadata": {},
   "outputs": [],
   "source": [
    "forcetot(branches2.branches , Ux2[:,1], Uy2[:,1], 1.2)[1] / (0.5 * 1.2 * 20^2 * 2.4)"
   ]
  },
  {
   "cell_type": "code",
   "execution_count": null,
   "metadata": {},
   "outputs": [],
   "source": [
    "force(branch, 20, 0, 1.2)[1] * 7 / (0.5 * 1.2 * 20^2 * 2.4)"
   ]
  },
  {
   "cell_type": "code",
   "execution_count": null,
   "metadata": {},
   "outputs": [],
   "source": [
    "collect(20.0:2.0:2.0)"
   ]
  },
  {
   "cell_type": "code",
   "execution_count": null,
   "metadata": {},
   "outputs": [],
   "source": [
    "TA.dragcoeff(branch, 20) * 1.2/2 * TA.diameter(branch) * 20^2"
   ]
  },
  {
   "cell_type": "code",
   "execution_count": null,
   "metadata": {},
   "outputs": [],
   "source": []
  }
 ],
 "metadata": {
  "kernelspec": {
   "display_name": "Julia 1.0.0",
   "language": "julia",
   "name": "julia-1.0"
  },
  "language_info": {
   "file_extension": ".jl",
   "mimetype": "application/julia",
   "name": "julia",
   "version": "1.0.0"
  }
 },
 "nbformat": 4,
 "nbformat_minor": 2
}
