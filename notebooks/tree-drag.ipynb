{
 "cells": [
  {
   "cell_type": "code",
   "execution_count": null,
   "metadata": {},
   "outputs": [],
   "source": [
    "using Plots\n",
    "gr(html_output_format=:png)\n",
    "\n"
   ]
  },
  {
   "cell_type": "code",
   "execution_count": null,
   "metadata": {},
   "outputs": [],
   "source": [
    "include(\"../src/TreeAerodynamics.jl\")\n"
   ]
  },
  {
   "cell_type": "code",
   "execution_count": null,
   "metadata": {},
   "outputs": [],
   "source": [
    "function hexagon(branch::T) where T\n",
    "    D = branch.D\n",
    "    r = D\n",
    "    \n",
    "    xc = branch.xc\n",
    "    yc = branch.yc\n",
    "    \n",
    "    b = Array{T,1}(undef, 7)\n",
    "    \n",
    "    b[1] = branch\n",
    "    θ = 0.0\n",
    "    \n",
    "    for i = 1:6\n",
    "        b[i+1] = TA.Branch2d(D, branch.Cd, \n",
    "            xc + D * cosd(θ), yc + D * sind(θ))\n",
    "        θ += 60.0\n",
    "    end\n",
    "    return b\n",
    "end\n"
   ]
  },
  {
   "cell_type": "code",
   "execution_count": null,
   "metadata": {},
   "outputs": [],
   "source": [
    "uoofun(x,y) = 1.0, 0.0\n",
    "Cd0 = 0.77\n",
    "D0 = 0.8\n",
    "branch1 = TA.Branch2d(D0, Cd0, 0.0, 0.0)\n",
    "branches = hexagon(branch1)\n",
    "nb = length(branches)\n",
    "#wm = TA.WakeModel2d(Cd0, D0)\n",
    "\n",
    "η1 = [0.0, 0.1, 0.25, 0.40, 0.55, 0.7, 0.849, 1.0, 1.15, 1.30, 1.45, 1.6, 1.8, 2, 2.5, 3, 3.5, 4, 5];\n",
    "x1 = x = TA.geomseq(D0/2, 200*D0, 40, 1.12); \n",
    "\n",
    "#wakes = [TA.wake2d(wm, x1, η1) for i in 1:nb];"
   ]
  },
  {
   "cell_type": "code",
   "execution_count": null,
   "metadata": {},
   "outputs": [],
   "source": [
    "Ux, Uy, niter = TA.velinterference(branches, uoofun, x1, η1; rlx=0.99)"
   ]
  },
  {
   "cell_type": "code",
   "execution_count": null,
   "metadata": {},
   "outputs": [],
   "source": [
    "hcat(Ux,Uy)"
   ]
  },
  {
   "cell_type": "code",
   "execution_count": null,
   "metadata": {},
   "outputs": [],
   "source": [
    "xc = [b.xc for b in branches]\n",
    "yc = [b.yc for b in branches]\n",
    "\n",
    "scatter(xc, yc, aspect_ratio=1.0)"
   ]
  },
  {
   "cell_type": "code",
   "execution_count": null,
   "metadata": {},
   "outputs": [],
   "source": [
    "include(\"../src/TreeAerodynamics.jl\")"
   ]
  },
  {
   "cell_type": "code",
   "execution_count": null,
   "metadata": {},
   "outputs": [],
   "source": [
    "Cd2 = TA.DragPowerLaw(2.0, -0.61)\n",
    "branch2 = TA.Branch2d(D0, Cd2, 0.0, 0.0)\n",
    "branches2 = TA.HexagonTree(branch2);\n",
    "branches3 = TA.HexagonTree(branches2);\n",
    "branches4 = TA.HexagonTree(branches3);\n",
    "branches5 = TA.HexagonTree(branches4);\n",
    "uoofun1(x,y) = (10.0, 0.0)"
   ]
  },
  {
   "cell_type": "code",
   "execution_count": null,
   "metadata": {},
   "outputs": [],
   "source": [
    "Ux, Uy, Cd = TA.velinterference(branches4.branches, uoofun1, x1, η1; rlx=0.2)\n",
    "    "
   ]
  },
  {
   "cell_type": "code",
   "execution_count": null,
   "metadata": {},
   "outputs": [],
   "source": [
    "size(Cd)"
   ]
  },
  {
   "cell_type": "code",
   "execution_count": null,
   "metadata": {},
   "outputs": [],
   "source": [
    "plot(Cd[1,10] .- Cd[1,:])"
   ]
  },
  {
   "cell_type": "code",
   "execution_count": null,
   "metadata": {},
   "outputs": [],
   "source": [
    "xc = [b.xc for b in branches3.branches]\n",
    "yc = [b.yc for b in branches3.branches]\n",
    "\n",
    "scatter(xc, yc, aspect_ratio=1.0)\n",
    "quiver!(xc, yc, gradient=(Ux./10, Uy./10))"
   ]
  },
  {
   "cell_type": "code",
   "execution_count": null,
   "metadata": {},
   "outputs": [],
   "source": [
    "Um = hypot.(Ux, Uy)\n",
    "dados2 = hcat(Ux, Uy, Um, Cd[:,end], TA.dragcoeff.(Cd2, Um))"
   ]
  },
  {
   "cell_type": "code",
   "execution_count": null,
   "metadata": {},
   "outputs": [],
   "source": [
    "minimum(Um)"
   ]
  },
  {
   "cell_type": "code",
   "execution_count": null,
   "metadata": {},
   "outputs": [],
   "source": [
    "maximum(Cd[:,2]), minimum(Cd[:,2]) "
   ]
  },
  {
   "cell_type": "code",
   "execution_count": null,
   "metadata": {},
   "outputs": [],
   "source": [
    "uoofun1(0,0)\n"
   ]
  },
  {
   "cell_type": "code",
   "execution_count": null,
   "metadata": {},
   "outputs": [],
   "source": []
  }
 ],
 "metadata": {
  "kernelspec": {
   "display_name": "Julia 1.0.0",
   "language": "julia",
   "name": "julia-1.0"
  },
  "language_info": {
   "file_extension": ".jl",
   "mimetype": "application/julia",
   "name": "julia",
   "version": "1.0.0"
  }
 },
 "nbformat": 4,
 "nbformat_minor": 2
}
