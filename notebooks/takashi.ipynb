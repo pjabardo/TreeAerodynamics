{
 "cells": [
  {
   "cell_type": "markdown",
   "metadata": {},
   "source": [
    "# Árvores do Takashi\n",
    "\n",
    "# Modelo 2D\n",
    "\n",
    "Os resultados aqui apresentados correspondem a um modelo 2D, ou seja, um modelo onde a árvore tem uma largura muito comprida (como se fosse um arbusto que forma uma cerca viva comprida). Com esta homogeneidade na direção perpendicular à página onde estão plotadas as árvores, os resultados iniciais correspondem a uma unidade de comprimento.\n",
    "\n",
    "O Coeficiente de arrasto é definido como\n",
    "$$\n",
    "    C_D = CFx = \\frac{F_x}{\\frac{1}{2}\\rho V^2 A}\n",
    "$$\n",
    "\n",
    "Como o problema é 2D, então, $A = L \\cdot 1$, de modo que\n",
    "$$\n",
    "    C_D = CFx = \\frac{F_x}{\\frac{1}{2}\\rho V^2 L}\n",
    "$$\n",
    "e neste caso $F_x$ é a força por unidade de comprimento.\n"
   ]
  },
  {
   "cell_type": "code",
   "execution_count": null,
   "metadata": {},
   "outputs": [],
   "source": [
    "using Plots\n",
    "gr(html_output_format=:png)\n",
    "\n"
   ]
  },
  {
   "cell_type": "code",
   "execution_count": null,
   "metadata": {},
   "outputs": [],
   "source": [
    "include(\"../src/TreeAerodynamics.jl\")\n"
   ]
  },
  {
   "cell_type": "markdown",
   "metadata": {},
   "source": [
    "# Velocidade do vento"
   ]
  },
  {
   "cell_type": "code",
   "execution_count": null,
   "metadata": {},
   "outputs": [],
   "source": [
    "Ukm = [100.0, 89.0, 80, 74.0, 60.0, 50.0, 40.0, 28, 20.0]\n",
    "nvel = length(Ukm)\n",
    "Uoo = Ukm / 3.3\n",
    "ρ = 1.1   # Densidade do ar em São Paulo "
   ]
  },
  {
   "cell_type": "markdown",
   "metadata": {},
   "source": [
    "# Galho ensaiado\n",
    "\n",
    "Neste relatório, será empregado o galho de eucalipto ensaiado. Este galho apresentou uma área projetada de aproximadamente 0,5 $m^2$. Aproximando esta área projetada por uma circunferência, isto corresponde a um diâmetro aproximado de 0,8 m.\n",
    "\n",
    "O coeficiente de arrasto do galho muda com a velocidade. Neste trabalho, o seguinte ajuste de curva foi adotado:\n",
    "\n",
    "$$\n",
    "C_D(V) = C_{D,min} + C_{D,0}\\cdot\\exp(-\\alpha\\cdot V)\n",
    "$$\n",
    "\n",
    "Nesta equação, quando $V\\longrightarrow\\infty$, $C_D\\longrightarrow C_{D,min}$ e para V=0, $C_D = C_{D,min} + C_{D,0}$\n"
   ]
  },
  {
   "cell_type": "code",
   "execution_count": null,
   "metadata": {},
   "outputs": [],
   "source": [
    "Vtun = [3.3, 4.9, 6.6, 8.2, 9.8, 11.5, 13.1]\n",
    "Cdtun = [0.94, 0.77, 0.64, 0.56, 0.5, 0.44, 0.41];"
   ]
  },
  {
   "cell_type": "code",
   "execution_count": null,
   "metadata": {},
   "outputs": [],
   "source": [
    "cdwindtunnel = TA.DragCoeff(1.18, 0.32, 0.2)\n",
    "vvtun = range(3, stop=14, length=100)\n",
    "cdtun = TA.dragcoeff.(cdwindtunnel, vvtun);"
   ]
  },
  {
   "cell_type": "code",
   "execution_count": null,
   "metadata": {},
   "outputs": [],
   "source": [
    "scatter(Vtun, Cdtun, xlabel=\"Velocidade do túnel de vento (m/s)\", ylabel=\"Coeficiente de arrasto\", label=\"Cd\")\n",
    "plot!(vvtun, cdtun, label=\"Ajuste\")"
   ]
  },
  {
   "cell_type": "markdown",
   "metadata": {},
   "source": [
    "# Mudança de tamanho do galho\n",
    "\n",
    "Não necessariamente o tamanho do galho ensaiado corresponde ao galho que se vai simular. Se o coeficiente de arrasto de um galho é dado pela correlação $C_D^0 = C_D^0(V) = C_D(V, D_0)$, então, para um galho com diâmetro diferente, o coeficiente de arrasto será dado por:\n",
    "\n",
    "$$\n",
    "C_D(V, D) = f\\left(\\frac{D}{D_0}\\right) \\cdot C_D(V, D_0) = \\left(\\frac{D}{D_0}\\right)^\\gamma\\cdot C_D(V, D_0)\n",
    "$$\n",
    "\n",
    "onde $\\gamma \\approx 0,45$\n",
    "\n",
    "Estes são resultados preliminares que precisam ser melhorados e confirmados."
   ]
  },
  {
   "cell_type": "code",
   "execution_count": null,
   "metadata": {},
   "outputs": [],
   "source": [
    "fcd(d, d₀) = (d/d₀)^0.45\n",
    "\n",
    "function rescaledrag(Cd::TA.DragCoeff, d, d₀=0.8)\n",
    "    f = fcd(d, d₀)\n",
    "    return TA.DragCoeff(Cd.cd0*f, Cd.cdmin*f, Cd.α)\n",
    "end\n"
   ]
  },
  {
   "cell_type": "code",
   "execution_count": null,
   "metadata": {},
   "outputs": [],
   "source": [
    "D0 = 0.8"
   ]
  },
  {
   "cell_type": "code",
   "execution_count": null,
   "metadata": {},
   "outputs": [],
   "source": [
    "D = 1.0\n",
    "Cd = rescaledrag(cdwindtunnel, 1.0, 0.8)\n",
    "η0 = [0.0, 0.1, 0.25, 0.40, 0.55, 0.7, 0.849, 1.0, 1.15, 1.30, 1.45, 1.6, 1.8, 2, 2.5, 3, 3.5, 4, 5];\n",
    "x0 = TA.geomseq(0.0, 100*D1, 30, 1.12); \n",
    "\n"
   ]
  },
  {
   "cell_type": "code",
   "execution_count": null,
   "metadata": {},
   "outputs": [],
   "source": [
    "Cd"
   ]
  },
  {
   "cell_type": "markdown",
   "metadata": {},
   "source": [
    "# Árvore 1"
   ]
  },
  {
   "cell_type": "code",
   "execution_count": null,
   "metadata": {},
   "outputs": [],
   "source": [
    "G1 = TA.Branch2d(D, Cd, 0.0, 14.0)\n",
    "Ux1 = reshape(Uoo, (nvel, 1))\n",
    "Uy1 = 0.0 * Ux1\n",
    "Cd1 = TA.dragcoeff.(Cd, Uoo)\n",
    "CFx1 = Cd1\n",
    "Fx1 = reshape(Cd1 .* D .* 0.5 .* ρ .* Uoo .^ 2, (nvel,1))\n",
    "Fxt1 = Fx1[:,1]"
   ]
  },
  {
   "cell_type": "code",
   "execution_count": null,
   "metadata": {},
   "outputs": [],
   "source": [
    "Ux1"
   ]
  },
  {
   "cell_type": "code",
   "execution_count": null,
   "metadata": {},
   "outputs": [],
   "source": [
    "plot(Ukm, Cd1, xlabel=\"Velocidade (km/h)\", ylabel=\"CFx\")\n"
   ]
  },
  {
   "cell_type": "code",
   "execution_count": null,
   "metadata": {},
   "outputs": [],
   "source": [
    "using CSV\n",
    "using DataFrames"
   ]
  },
  {
   "cell_type": "code",
   "execution_count": null,
   "metadata": {},
   "outputs": [],
   "source": [
    "df = DataFrame(U=Ukm, Uoo=Uoo, CFx=CFx1, Fx=Fxt1)\n",
    "CSV.write(\"temp.txt\", df; delim=\";\")"
   ]
  },
  {
   "cell_type": "code",
   "execution_count": null,
   "metadata": {},
   "outputs": [],
   "source": []
  },
  {
   "cell_type": "code",
   "execution_count": null,
   "metadata": {},
   "outputs": [],
   "source": [
    "plot(Ukm, Fxt1, xlabel=\"Velocidade (km/h)\", ylabel=\"Força por unidade de comprimento (N/m)\", \n",
    "label=\"Fx Árvore 1\")"
   ]
  },
  {
   "cell_type": "code",
   "execution_count": null,
   "metadata": {},
   "outputs": [],
   "source": []
  },
  {
   "cell_type": "code",
   "execution_count": null,
   "metadata": {},
   "outputs": [],
   "source": [
    "function simulatevels(branches, Uoo, x, η; err=1e-5, rlx=0.2)\n",
    "    \n",
    "    nu = length(Uoo)\n",
    "    nb = length(branches)\n",
    "    drag = []\n",
    "    \n",
    "    println(\"%%%%%%%%%%%%%%%%%%%%%%%%%%%%%%%%%%%%%%%%%\")\n",
    "    println(\"Vel: \", Uoo[1])\n",
    "    push!(drag, TA.velinterference(branches, (x,y)->(Uoo[1], 0.0), x, η; err=err, rlx=rlx))\n",
    "    \n",
    "    for i = 2:nu\n",
    "    println(\"%%%%%%%%%%%%%%%%%%%%%%%%%%%%%%%%%%%%%%%%%\")\n",
    "    println(\"Vel: \", Uoo[i])\n",
    "        fun = (x,y) -> (Uoo[i], 0.0)\n",
    "        Ux = drag[i-1][1] .* Uoo[i]/Uoo[i-1]\n",
    "        Uy = drag[i-1][1] .* Uoo[i]/Uoo[i-1]\n",
    "        rlx = min(0.5, rlx*1.5)\n",
    "        push!(drag, TA.velinterference(branches, fun, x, η, err=err, rlx=rlx, Uxinit=Ux, Uyinit=Uy))\n",
    "    end\n",
    "    \n",
    "    return drag\n",
    "    \n",
    "    \n",
    "end"
   ]
  },
  {
   "cell_type": "code",
   "execution_count": null,
   "metadata": {},
   "outputs": [],
   "source": [
    "function forcetot(branches, Ux, Uy, ρ=1.2)\n",
    "\n",
    "    Fx = 0.0\n",
    "    Fy = 0.0\n",
    "    nb = length(branches)\n",
    "    for i = 1:nb\n",
    "        ux = Ux[i]\n",
    "        uy = Uy[i]\n",
    "        U = hypot(ux, uy)\n",
    "        Cd = TA.dragcoeff(branches[i], U)\n",
    "        D = TA.diameter(branches[i])\n",
    "        α = atan(uy, ux)\n",
    "        cα = cos(α)\n",
    "        sα = sin(α)\n",
    "        fi = 0.5 * ρ * Cd * D * U^2\n",
    "        \n",
    "        Fx += fi*cα\n",
    "        Fy += fi*sα\n",
    "    end\n",
    "\n",
    "    return Fx, Fy\n",
    "end\n",
    "\n",
    "function force(branch, ux, uy, ρ=1.2)\n",
    "\n",
    "    U = hypot(ux, uy)\n",
    "    Cd = TA.dragcoeff(branch, U)\n",
    "    D = TA.diameter(branch)\n",
    "    α = atan(uy, ux)\n",
    "    cα = cos(α)\n",
    "    sα = sin(α)\n",
    "    fi = 0.5 * ρ * Cd * D * U^2\n",
    "        \n",
    "    Fx = fi*cα\n",
    "    Fy = fi*sα\n",
    "    \n",
    "\n",
    "    return Fx, Fy\n",
    "end\n",
    "\n",
    "\n",
    "function forcecoef(branches, Ux, Uy, Uoo, Lref)\n",
    "    ρ = 1.0\n",
    "    Fx, Fy = forcetot(branches, Ux, Uy, 1.0)\n",
    "    CFx = Fx / (0.5 * ρ * Lref * Uoo^2)\n",
    "    CFy = Fy / (0.5 * ρ * Lref * Uoo^2)    \n",
    "    \n",
    "    return CFx, CFy\n",
    "end\n",
    "\n"
   ]
  },
  {
   "cell_type": "markdown",
   "metadata": {},
   "source": [
    "# Árvore 2"
   ]
  },
  {
   "cell_type": "code",
   "execution_count": null,
   "metadata": {},
   "outputs": [],
   "source": [
    "G1 =  TA.Branch2d(D, Cd, 0.0, 14.0)\n",
    "G2 =  TA.Branch2d(D, Cd, 7.0, 7.0)\n",
    "G3 =  TA.Branch2d(D, Cd, -7.0, 7.0)\n",
    "T2 = [G1, G2, G3]\n",
    "L2 = 14.0"
   ]
  },
  {
   "cell_type": "code",
   "execution_count": null,
   "metadata": {},
   "outputs": [],
   "source": [
    "drag2 = simulatevels(T2, Uoo, x0, η0)"
   ]
  },
  {
   "cell_type": "code",
   "execution_count": null,
   "metadata": {},
   "outputs": [],
   "source": [
    "Ux2 = hcat([d[1] for d in drag2]...)\n",
    "Uy2 = hcat([d[2] for d in drag2]...);\n",
    "Cd2 = hcat([d[3] for d in drag2]...);\n",
    "CFx2 = [forcecoef(T2 , Ux2[:,i], Uy2[:,i], Uoo[i], L2)[1] for i in 1:length(Uoo)];\n",
    "xc2 = [b.xc for b in T2];\n",
    "yc2 = [b.yc for b in T2];\n"
   ]
  },
  {
   "cell_type": "code",
   "execution_count": null,
   "metadata": {},
   "outputs": [],
   "source": [
    "scatter(xc2, yc2, color=:green, aspect_ratio=1.0, legend=false, markersize=20)\n",
    "plot!([0, 0], [0, 14], linewidth=3, color=:brown)\n",
    "plot!([-7, 7], [7, 7], linewidth=3, color=:brown)\n",
    "i1 = 1\n",
    "i2 = length(Uoo)\n",
    "quiver!(xc2, yc2, gradient=(3Ux2[:,i1]/Uoo[i1], 2Uy2[:,i1]/Uoo[i1]))\n",
    "quiver!(xc2, yc2, gradient=(3Ux2[:,i2]/Uoo[i2], 2Uy2[:,i2]/Uoo[i2]))"
   ]
  },
  {
   "cell_type": "code",
   "execution_count": null,
   "metadata": {},
   "outputs": [],
   "source": [
    "Ux2\n"
   ]
  },
  {
   "cell_type": "code",
   "execution_count": null,
   "metadata": {},
   "outputs": [],
   "source": [
    "Uy2"
   ]
  },
  {
   "cell_type": "code",
   "execution_count": null,
   "metadata": {
    "scrolled": true
   },
   "outputs": [],
   "source": [
    "plot(Ukm, CFx2, label=\"Lref = 14 m\", xlabel=\"Velocidade (km/h)\", \n",
    "    ylabel=\"Cd\")"
   ]
  },
  {
   "cell_type": "markdown",
   "metadata": {},
   "source": [
    "## Comparação com um galho único"
   ]
  },
  {
   "cell_type": "code",
   "execution_count": null,
   "metadata": {},
   "outputs": [],
   "source": [
    "plot(Ukm, CFx2 * 14 ./ (CFx1*length(T2)), xlabel=\"Velocidade (km/h)\", \n",
    "    ylabel=\"Razão entre CFx\", title=\"Razão entre força total e Galhos isolados\", label=\"Árvore 2\")\n",
    "\n"
   ]
  },
  {
   "cell_type": "markdown",
   "metadata": {},
   "source": [
    "# Árvore 3"
   ]
  },
  {
   "cell_type": "code",
   "execution_count": null,
   "metadata": {},
   "outputs": [],
   "source": [
    "G1 =  TA.Branch2d(D, Cd, 0.0, 14.0)\n",
    "G2 =  TA.Branch2d(D, Cd, 7.0, 7.0)\n",
    "G3 =  TA.Branch2d(D, Cd, 4.95, 11.95)\n",
    "G4 =  TA.Branch2d(D, Cd, -4.95, 11.95)\n",
    "G5 =  TA.Branch2d(D, Cd, -7.0, 7.0)\n",
    "T3= [G1, G2, G3, G4, G5]\n",
    "L3= 14.0"
   ]
  },
  {
   "cell_type": "code",
   "execution_count": null,
   "metadata": {},
   "outputs": [],
   "source": [
    "drag3 = simulatevels(T3, Uoo, x0, η0)"
   ]
  },
  {
   "cell_type": "code",
   "execution_count": null,
   "metadata": {},
   "outputs": [],
   "source": [
    "Ux3 = hcat([d[1] for d in drag3]...)\n",
    "Uy3 = hcat([d[2] for d in drag3]...);\n",
    "Cd3 = hcat([d[3] for d in drag3]...);\n",
    "CFx3 = [forcecoef(T3 , Ux3[:,i], Uy3[:,i], Uoo[i], L3)[1] for i in 1:length(Uoo)];\n",
    "xc3 = [b.xc for b in T3];\n",
    "yc3 = [b.yc for b in T3];\n"
   ]
  },
  {
   "cell_type": "code",
   "execution_count": null,
   "metadata": {},
   "outputs": [],
   "source": [
    "scatter(xc3, yc3, color=:green, aspect_ratio=1.0, legend=false, markersize=20)\n",
    "plot!([0, 0], [0, 14], linewidth=3, color=:brown)\n",
    "plot!([-7, 7], [7, 7], linewidth=3, color=:brown)\n",
    "plot!([0, 4.95], [7, 11.95], linewidth=3, color=:brown)\n",
    "plot!([0, -4.95], [7, 11.95], linewidth=3, color=:brown)\n",
    "\n",
    "i1 = 1\n",
    "i2 = length(Uoo)\n",
    "quiver!(xc3, yc3, gradient=(2Ux3[:,i1]/Uoo[i1], 2Uy3[:,i1]/Uoo[i1]))\n",
    "quiver!(xc3, yc3, gradient=(2Ux3[:,i2]/Uoo[i2], 2Uy3[:,i2]/Uoo[i2]))"
   ]
  },
  {
   "cell_type": "code",
   "execution_count": null,
   "metadata": {},
   "outputs": [],
   "source": [
    "Ux3\n"
   ]
  },
  {
   "cell_type": "code",
   "execution_count": null,
   "metadata": {},
   "outputs": [],
   "source": [
    "Uy3"
   ]
  },
  {
   "cell_type": "code",
   "execution_count": null,
   "metadata": {},
   "outputs": [],
   "source": [
    "plot(Ukm, CFx3, label=\"Lref = 14 m\", xlabel=\"Velocidade (km/h)\", \n",
    "    ylabel=\"Cd\")"
   ]
  },
  {
   "cell_type": "markdown",
   "metadata": {},
   "source": [
    "## Comparação com um galho único"
   ]
  },
  {
   "cell_type": "code",
   "execution_count": null,
   "metadata": {},
   "outputs": [],
   "source": [
    "plot(Uoo, CFx3 * 14 ./ (CFx1*length(T3)), xlabel=\"Velocidade (km/h)\", \n",
    "    ylabel=\"Razão entre CFx\", title=\"Razão entre força total e Galhos isolados\", label=\"Árvore 3\")\n"
   ]
  },
  {
   "cell_type": "markdown",
   "metadata": {},
   "source": [
    "# Árvore 4"
   ]
  },
  {
   "cell_type": "code",
   "execution_count": null,
   "metadata": {},
   "outputs": [],
   "source": [
    "G1 =  TA.Branch2d(D, Cd, 0.0, 14.0)\n",
    "G2 =  TA.Branch2d(D, Cd, 7.0, 7.0)\n",
    "G3 =  TA.Branch2d(D, Cd, 6.06, 10.05)\n",
    "G4 =  TA.Branch2d(D, Cd, 3.5, 13.06)\n",
    "G5 =  TA.Branch2d(D, Cd, -3.5, 13.06)\n",
    "G6 =  TA.Branch2d(D, Cd, -6.06, 10.05)\n",
    "G7 =  TA.Branch2d(D, Cd, -7.0, 7.0)\n",
    "T4= [G1, G2, G3, G4, G5, G6, G7]\n",
    "L4= 14.0"
   ]
  },
  {
   "cell_type": "code",
   "execution_count": null,
   "metadata": {},
   "outputs": [],
   "source": [
    "drag4 = simulatevels(T4, Uoo, x0, η0)"
   ]
  },
  {
   "cell_type": "code",
   "execution_count": null,
   "metadata": {},
   "outputs": [],
   "source": [
    "Ux4 = hcat([d[1] for d in drag4]...)\n",
    "Uy4 = hcat([d[2] for d in drag4]...);\n",
    "Cd4 = hcat([d[3] for d in drag4]...);\n",
    "CFx4 = [forcecoef(T4 , Ux4[:,i], Uy4[:,i], Uoo[i], L4)[1] for i in 1:length(Uoo)];\n",
    "xc4 = [b.xc for b in T4];\n",
    "yc4 = [b.yc for b in T4];\n"
   ]
  },
  {
   "cell_type": "code",
   "execution_count": null,
   "metadata": {
    "scrolled": true
   },
   "outputs": [],
   "source": [
    "scatter(xc4, yc4, color=:green, aspect_ratio=1.0, legend=false, markersize=20)\n",
    "plot!([0, 0], [0, 14], linewidth=3, color=:brown)\n",
    "plot!([-7, 7], [7, 7], linewidth=3, color=:brown)\n",
    "plot!([0, 6.06], [7, 10.5], linewidth=3, color=:brown)\n",
    "plot!([0, -6.06], [7, 10.5], linewidth=3, color=:brown)\n",
    "plot!([0, 3.5], [7, 13.06], linewidth=3, color=:brown)\n",
    "plot!([0, -3.5], [7, 13.06], linewidth=3, color=:brown)\n",
    "\n",
    "i1 = 1\n",
    "i2 = length(Uoo)\n",
    "quiver!(xc4, yc4, gradient=(3Ux4[:,i1]/Uoo[i1], 3Uy4[:,i1]/Uoo[i1]))\n",
    "quiver!(xc4, yc4, gradient=(3Ux4[:,i2]/Uoo[i2], 3Uy4[:,i2]/Uoo[i2]))"
   ]
  },
  {
   "cell_type": "code",
   "execution_count": null,
   "metadata": {},
   "outputs": [],
   "source": [
    "Ux4"
   ]
  },
  {
   "cell_type": "code",
   "execution_count": null,
   "metadata": {},
   "outputs": [],
   "source": [
    "Uy4"
   ]
  },
  {
   "cell_type": "code",
   "execution_count": null,
   "metadata": {},
   "outputs": [],
   "source": [
    "plot(Ukm, CFx4, label=\"Lref = 14 m\", xlabel=\"Velocidade (km/h)\", \n",
    "    ylabel=\"Cd\")"
   ]
  },
  {
   "cell_type": "markdown",
   "metadata": {},
   "source": [
    "## Comparação com um galho único"
   ]
  },
  {
   "cell_type": "code",
   "execution_count": null,
   "metadata": {},
   "outputs": [],
   "source": [
    "plot(Ukm, CFx4 * 14 ./ (CFx1*length(T4)), xlabel=\"Velocidade (km/h)\", \n",
    "    ylabel=\"Razão entre CFx\", title=\"Razão entre força total e Galhos isolados\", label=\"Árvore 4\")\n",
    "\n"
   ]
  },
  {
   "cell_type": "markdown",
   "metadata": {},
   "source": [
    "# Extrapolação para 3D\n",
    "\n",
    "A análise neste trabalho foi 2D. Naturalmente, deseja-se de alguma maneira   aplicar estes resultados para o caso real - 3D. \n",
    "\n",
    "Os coeficientes de arrasto para as diferentes aŕvores (CFx1, CFx2, CFx3, CFx4) foram obtidos considerando a largura da copa que vale, com a exceção  da árvore 1, D = 14 m:\n",
    "\n",
    "$$\n",
    "CFx = \\frac{Fxu}{\\frac{1}{2}\\rho V^2 D}\n",
    "$$\n",
    "\n",
    "onde Fxu é a força por unidade de comprimento.\n",
    "\n",
    "\n",
    "Lembrando que os resultados anteriores correspondem a carreiras longas de árvores (lembre-se da cerca viva...), a primeira tentação seria simplesmente multiplicar a força por unidade de comprimento pelo comprimento $D$. Esta abordagem tem dois problemas:\n",
    "\n",
    " * A copa, vista de cima, tende a ser circular e esta abordagem apresenta uma copa muito maior\n",
    " * No caso 3D, além de se desviar por cima (o que foi simulado neste modelo) o ar pode ser desviar pelos lados.\n",
    " \n",
    " Assim, o coeficiente de força 3D será menor que o 2D por um fator de 2 - 3."
   ]
  },
  {
   "cell_type": "code",
   "execution_count": null,
   "metadata": {},
   "outputs": [],
   "source": []
  }
 ],
 "metadata": {
  "kernelspec": {
   "display_name": "Julia 1.0.0",
   "language": "julia",
   "name": "julia-1.0"
  },
  "language_info": {
   "file_extension": ".jl",
   "mimetype": "application/julia",
   "name": "julia",
   "version": "1.0.0"
  }
 },
 "nbformat": 4,
 "nbformat_minor": 2
}
