{
 "cells": [
  {
   "cell_type": "markdown",
   "metadata": {},
   "source": [
    "# Exemplo de cálculo de interferência"
   ]
  },
  {
   "cell_type": "code",
   "execution_count": null,
   "metadata": {},
   "outputs": [],
   "source": [
    "using PyPlot"
   ]
  },
  {
   "cell_type": "code",
   "execution_count": null,
   "metadata": {},
   "outputs": [],
   "source": [
    "myrand(n, xmin=0.0, xmax=1.0) = xmin .+ rand(n) * (xmax-xmin)\n",
    "    "
   ]
  },
  {
   "cell_type": "code",
   "execution_count": null,
   "metadata": {},
   "outputs": [],
   "source": [
    "include(\"TreeAerodynamics.jl\")"
   ]
  },
  {
   "cell_type": "code",
   "execution_count": null,
   "metadata": {},
   "outputs": [],
   "source": [
    "uoofun(x,y) = (1.0, 0.0)\n",
    "nb = 2\n",
    "D0 = 1.0\n",
    "D = [1.0, 1.0]\n",
    "Cd = [1.2, 1.2]\n",
    "xc = [0.0, 0.0]\n",
    "yc = [-2.0, 2.0]\n",
    "η1 = [0.0, 0.1, 0.25, 0.40, 0.55, 0.7, 0.849, 1.0, 1.15, 1.30, 1.45, 1.6, 1.8, 2, 2.5, 3, 3.5, 4, 5];\n",
    "x1 = x = TA.geomseq(D0/2, 100*D0, 30, 1.12); "
   ]
  },
  {
   "cell_type": "code",
   "execution_count": null,
   "metadata": {},
   "outputs": [],
   "source": [
    "branches = [TA.Branch2d(D[i], Cd[i], xc[i], yc[i]) for i in 1:nb]\n",
    "wm = [TA.WakeModel2d(TA.dragcoeff(b), b.D) for b in branches]\n",
    "wakes = [TA.wake2d(w, x1, η1) for w in wm];\n",
    "#ux,uy = TA.wakeinterference(wakes, branches, uoofun; maxiter=2000, err=1e-4, rlx=0.02)\n",
    "ux, uy, xw, yw, niter= TA.wakeinterference(wakes, branches, uoofun; maxiter=2000, err=1e-4, rlx=0.02)"
   ]
  },
  {
   "cell_type": "code",
   "execution_count": null,
   "metadata": {},
   "outputs": [],
   "source": [
    "r = 1:20\n",
    "for i = 1:nb\n",
    "    plot(xw[i][r], yw[i][r], \"r-\")\n",
    "end\n"
   ]
  },
  {
   "cell_type": "code",
   "execution_count": null,
   "metadata": {},
   "outputs": [],
   "source": [
    "hypot.(ux, uy)"
   ]
  },
  {
   "cell_type": "code",
   "execution_count": null,
   "metadata": {},
   "outputs": [],
   "source": [
    "nb = 20\n",
    "D0 = 1.0\n",
    "D = fill(D0, nb)\n",
    "Cd = fill(0.35, nb)\n",
    "\n",
    "xc = myrand(nb, 1, 10)\n",
    "yc = myrand(nb, 1, 10)\n",
    "\n",
    "nb = length(D)\n",
    "η1 = [0.0, 0.1, 0.25, 0.40, 0.55, 0.7, 0.849, 1.0, 1.15, 1.30, 1.45, 1.6, 1.8, 2, 2.5, 3, 3.5, 4, 5];\n",
    "x1 = x = TA.geomseq(D0/2, 100*D0, 30, 1.12); \n",
    "nw = length(x1)\n",
    "#η1 = [range(0.0, stop=3.0, step=0.05); \n",
    "#      range(3.1, stop=5, step=0.1); \n",
    "#      range(5.5, stop=15, step=0.5)];\n",
    "#η1 = [0.4, 0.8, 1.2, 1.6, 2]\n",
    "#x1 = [0.6, 1.0, 2.0, 4]"
   ]
  },
  {
   "cell_type": "code",
   "execution_count": null,
   "metadata": {},
   "outputs": [],
   "source": [
    "branches = [TA.Branch2d(D[i], Cd[i], xc[i], yc[i]) for i in 1:nb]\n",
    "wm = [TA.WakeModel2d(TA.dragcoeff(b), b.D) for b in branches]\n",
    "\n",
    "wakes = [TA.wake2d(w, x1, η1) for w in wm];\n"
   ]
  },
  {
   "cell_type": "code",
   "execution_count": null,
   "metadata": {},
   "outputs": [],
   "source": [
    "ux, uy, xw, yw, niter= TA.wakeinterference(wakes, branches, maxiter=2000, rlx=0.5, rlx2=0.05)\n"
   ]
  },
  {
   "cell_type": "code",
   "execution_count": null,
   "metadata": {},
   "outputs": [],
   "source": [
    "r = 1:10\n",
    "for i = 1:nb\n",
    "    plot(xw[i][r], yw[i][r], \"r-\")\n",
    "    plot(xw1[i][r], yw1[i][r], \"b--\")\n",
    "end\n"
   ]
  },
  {
   "cell_type": "code",
   "execution_count": null,
   "metadata": {},
   "outputs": [],
   "source": [
    "TA.inducevel(wakes[1], xw[1], yw[1], 1, -2, 2.0)"
   ]
  },
  {
   "cell_type": "code",
   "execution_count": null,
   "metadata": {},
   "outputs": [],
   "source": [
    "wm = TA.WakeModel2d(1.2, 1.0)\n"
   ]
  },
  {
   "cell_type": "code",
   "execution_count": null,
   "metadata": {},
   "outputs": [],
   "source": [
    "y = -5.0:0.02:5\n",
    "\n",
    "u1 = TA.ufun.(wm, 5, y)\n",
    "u2 = TA.ufun.(wm, 10, y)\n",
    "u3 = TA.ufun.(wm, 20, y)\n",
    "plot(u1, y, \"b-\", u2, y, \"r-\", u3, y, \"g-\")\n"
   ]
  },
  {
   "cell_type": "code",
   "execution_count": null,
   "metadata": {},
   "outputs": [],
   "source": [
    "\n",
    "w1 = TA.vorticity.(wm, 5, y)\n",
    "w2 = TA.vorticity.(wm, 10, y)\n",
    "w3 = TA.vorticity.(wm, 20, y)\n",
    "w3 = TA.vorticity.(wm, 50, y)\n",
    "\n",
    "plot(w1, y, \"b-\", w2, y, \"r-\", w3, y, \"y-\")\n"
   ]
  },
  {
   "cell_type": "code",
   "execution_count": null,
   "metadata": {},
   "outputs": [],
   "source": [
    "i = 3\n",
    "w = wakes[1]\n",
    "plot(w.ω[:,i] .* w.A[:,i], w.yv[:,i], \"bs-\")"
   ]
  },
  {
   "cell_type": "code",
   "execution_count": null,
   "metadata": {},
   "outputs": [],
   "source": [
    "wm = TA.WakeModel2d(1.2, 1.0)\n",
    "x1 = [0.5, 1.0, 2.0, 3.0, 4.0, 5.0, 6, 8, 10, 12, 15, 20, 25, 30, 40, 50, 60, 80, 100, 120, 150, 200, 250, 300, 350, 400, 500]\n",
    "η1 = [0.0, 0.6, 1.1, 1.7, 2.7, 4, 5, 7, 10, 15]\n",
    "ww = TA.wake2d(wm, x1, η1);"
   ]
  },
  {
   "cell_type": "code",
   "execution_count": null,
   "metadata": {},
   "outputs": [],
   "source": [
    "\n",
    "TA.inducevel(ww, x1, 0.0 .* x1, 1, 0, 15.0)"
   ]
  },
  {
   "cell_type": "code",
   "execution_count": null,
   "metadata": {},
   "outputs": [],
   "source": [
    "TA.WakeModel2d(1.2, 1.0, 2).x₀"
   ]
  },
  {
   "cell_type": "code",
   "execution_count": null,
   "metadata": {},
   "outputs": [],
   "source": [
    "function vortexpair(Γ, r, x, y)\n",
    "    \n",
    "    dx = x\n",
    "    dy1 = y - r\n",
    "    dy2 = y + r\n",
    "    \n",
    "    r1 = hypot(dx, dy1)\n",
    "    r2 = hypot(dx, dy2)\n",
    "    \n",
    "    nx1 = -dy1/r1\n",
    "    ny1 = dx/r1\n",
    "    nx2 = -dy2/r2\n",
    "    ny2 = dx/r2\n",
    "    \n",
    "    uth1 = -Γ/(2π*r1)\n",
    "    uth2 =  Γ/(2π*r2)\n",
    "    \n",
    "    u = uth1*nx1 + uth2*nx2\n",
    "    v = uth1*ny1 + uth2*ny2\n",
    "    \n",
    "    return u,v\n",
    "end\n",
    "    "
   ]
  },
  {
   "cell_type": "code",
   "execution_count": null,
   "metadata": {},
   "outputs": [],
   "source": [
    "vortexpair(1, 0.5, -1, 2)"
   ]
  },
  {
   "cell_type": "code",
   "execution_count": null,
   "metadata": {},
   "outputs": [],
   "source": []
  }
 ],
 "metadata": {
  "kernelspec": {
   "display_name": "Julia 1.0.0",
   "language": "julia",
   "name": "julia-1.0"
  },
  "language_info": {
   "file_extension": ".jl",
   "mimetype": "application/julia",
   "name": "julia",
   "version": "1.0.0"
  }
 },
 "nbformat": 4,
 "nbformat_minor": 2
}
