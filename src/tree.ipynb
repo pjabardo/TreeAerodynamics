{
 "cells": [
  {
   "cell_type": "markdown",
   "metadata": {},
   "source": [
    "# Exemplo de cálculo de interferência"
   ]
  },
  {
   "cell_type": "code",
   "execution_count": null,
   "metadata": {},
   "outputs": [],
   "source": [
    "using PyPlot"
   ]
  },
  {
   "cell_type": "code",
   "execution_count": null,
   "metadata": {},
   "outputs": [],
   "source": [
    "include(\"TreeAerodynamics.jl\")"
   ]
  },
  {
   "cell_type": "code",
   "execution_count": null,
   "metadata": {},
   "outputs": [],
   "source": [
    "myrand(n, xmin=0.0, xmax=1.0) = xmin .+ rand(n) * (xmax-xmin)\n",
    "    "
   ]
  },
  {
   "cell_type": "code",
   "execution_count": null,
   "metadata": {},
   "outputs": [],
   "source": [
    "nb = 2\n",
    "D = [1.0, 1.0]\n",
    "Cd = [1.2, 1.2]\n",
    "xc = [0.0, 2.0]\n",
    "yc = [0.0, 0.0]\n",
    "η1 = [0.0, 0.1, 0.25, 0.40, 0.55, 0.7, 0.849, 1.0, 1.15, 1.30, 1.45, 1.6, 1.8, 2, 2.5, 3, 3.5, 4, 5];\n",
    "x1 = x = TA.geomseq(D0/2, 100*D0, 30, 1.12); "
   ]
  },
  {
   "cell_type": "code",
   "execution_count": null,
   "metadata": {},
   "outputs": [],
   "source": [
    "branches = [TA.Branch2d(D[i], Cd[i], xc[i], yc[i]) for i in 1:nb]\n",
    "wm = [TA.WakeModel2d(TA.dragcoeff(b), b.D) for b in branches]\n",
    "wakes = [TA.wake2d(w, x1, η1) for w in wm];\n",
    "ux, uy, xw, yw, niter= TA.wakeinterference(wakes, branches, maxiter=2000, err=1e-4, rlx=0.5, rlx2=0.1)\n"
   ]
  },
  {
   "cell_type": "code",
   "execution_count": null,
   "metadata": {},
   "outputs": [],
   "source": [
    "r = 1:30\n",
    "for i = 1:nb\n",
    "    plot(xw[i][r], yw[i][r], \"r-\")\n",
    "end\n"
   ]
  },
  {
   "cell_type": "code",
   "execution_count": null,
   "metadata": {},
   "outputs": [],
   "source": [
    "ux, uy"
   ]
  },
  {
   "cell_type": "code",
   "execution_count": null,
   "metadata": {},
   "outputs": [],
   "source": [
    "nb = 20\n",
    "D0 = 1.0\n",
    "D = fill(D0, nb)\n",
    "Cd = fill(0.35, nb)\n",
    "\n",
    "xc = myrand(nb, 1, 10)\n",
    "yc = myrand(nb, 1, 10)\n",
    "\n",
    "nb = length(D)\n",
    "η1 = [0.0, 0.1, 0.25, 0.40, 0.55, 0.7, 0.849, 1.0, 1.15, 1.30, 1.45, 1.6, 1.8, 2, 2.5, 3, 3.5, 4, 5];\n",
    "x1 = x = TA.geomseq(D0/2, 100*D0, 30, 1.12); \n",
    "nw = length(x1)\n",
    "#η1 = [range(0.0, stop=3.0, step=0.05); \n",
    "#      range(3.1, stop=5, step=0.1); \n",
    "#      range(5.5, stop=15, step=0.5)];\n",
    "#η1 = [0.4, 0.8, 1.2, 1.6, 2]\n",
    "#x1 = [0.6, 1.0, 2.0, 4]"
   ]
  },
  {
   "cell_type": "code",
   "execution_count": null,
   "metadata": {},
   "outputs": [],
   "source": [
    "branches = [TA.Branch2d(D[i], Cd[i], xc[i], yc[i]) for i in 1:nb]\n",
    "wm = [TA.WakeModel2d(TA.dragcoeff(b), b.D) for b in branches]\n",
    "\n",
    "wakes = [TA.wake2d(w, x1, η1) for w in wm];\n"
   ]
  },
  {
   "cell_type": "code",
   "execution_count": null,
   "metadata": {},
   "outputs": [],
   "source": [
    "ux, uy, xw, yw, niter= TA.wakeinterference(wakes, branches, maxiter=2000, rlx=0.5, rlx2=0.05)\n"
   ]
  },
  {
   "cell_type": "code",
   "execution_count": null,
   "metadata": {},
   "outputs": [],
   "source": [
    "r = 1:10\n",
    "for i = 1:nb\n",
    "    plot(xw[i][r], yw[i][r], \"r-\")\n",
    "    plot(xw1[i][r], yw1[i][r], \"b--\")\n",
    "end\n"
   ]
  },
  {
   "cell_type": "code",
   "execution_count": null,
   "metadata": {},
   "outputs": [],
   "source": [
    "sqrt.(ux.^2 .+ uy.^2)"
   ]
  },
  {
   "cell_type": "code",
   "execution_count": null,
   "metadata": {},
   "outputs": [],
   "source": [
    "wakes[1].Γ[5,10]"
   ]
  },
  {
   "cell_type": "code",
   "execution_count": null,
   "metadata": {},
   "outputs": [],
   "source": [
    "Ux = fill(1.0, nb)\n",
    "Uy = fill(0.0, nb)\n",
    "Uxo = fill(0.0, nb)\n",
    "Uyo = fill(0.0, nb)\n",
    "xw = [ x1 .+ xc[i] for i in 1:nb]\n",
    "yw = [ yc[i] .+ fill(0.0, length(x1)) for i in 1:nb]\n",
    "xwo = [ x1 .+ xc[i] for i in 1:nb]\n",
    "ywo = [ yc[i] .+ fill(0.0, length(x1)) for i in 1:nb]"
   ]
  },
  {
   "cell_type": "code",
   "execution_count": null,
   "metadata": {},
   "outputs": [],
   "source": [
    "yw"
   ]
  },
  {
   "cell_type": "code",
   "execution_count": null,
   "metadata": {},
   "outputs": [],
   "source": [
    "TA.branchvel!(wakes, branches, Ux, Uy, xw, yw, Uxo, Uyo)"
   ]
  },
  {
   "cell_type": "code",
   "execution_count": null,
   "metadata": {},
   "outputs": [],
   "source": [
    "Uxo"
   ]
  },
  {
   "cell_type": "code",
   "execution_count": null,
   "metadata": {},
   "outputs": [],
   "source": [
    "TA.inducevel(wakes[1], xw[1], yw[1], 1.0, 0.0, 1.0)"
   ]
  },
  {
   "cell_type": "code",
   "execution_count": null,
   "metadata": {},
   "outputs": [],
   "source": [
    "yw"
   ]
  },
  {
   "cell_type": "code",
   "execution_count": null,
   "metadata": {},
   "outputs": [],
   "source": [
    "TA.versor(Uxo[1]+1, Uyo[1])"
   ]
  },
  {
   "cell_type": "code",
   "execution_count": null,
   "metadata": {},
   "outputs": [],
   "source": [
    "TA.wakedispl!(wakes, branches, 1.0, Uxo .+ 1.0, Uy, xw, yw, xwo, ywo)"
   ]
  },
  {
   "cell_type": "code",
   "execution_count": null,
   "metadata": {},
   "outputs": [],
   "source": [
    "plot()"
   ]
  }
 ],
 "metadata": {
  "kernelspec": {
   "display_name": "Julia 1.0.0",
   "language": "julia",
   "name": "julia-1.0"
  },
  "language_info": {
   "file_extension": ".jl",
   "mimetype": "application/julia",
   "name": "julia",
   "version": "1.0.0"
  }
 },
 "nbformat": 4,
 "nbformat_minor": 2
}
