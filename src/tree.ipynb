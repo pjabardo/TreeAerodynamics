{
 "cells": [
  {
   "cell_type": "markdown",
   "metadata": {},
   "source": [
    "# Exemplo de cálculo de interferência"
   ]
  },
  {
   "cell_type": "code",
   "execution_count": null,
   "metadata": {},
   "outputs": [],
   "source": [
    "using Plots\n",
    "#gr(size=(900,600), html_output_format=:png)\n",
    "#pyplot()\n",
    "gr(html_output_format=:png)\n"
   ]
  },
  {
   "cell_type": "code",
   "execution_count": null,
   "metadata": {},
   "outputs": [],
   "source": [
    "myrand(n, xmin=0.0, xmax=1.0) = xmin .+ rand(n) * (xmax-xmin)\n",
    "    "
   ]
  },
  {
   "cell_type": "code",
   "execution_count": null,
   "metadata": {},
   "outputs": [],
   "source": [
    "include(\"TreeAerodynamics.jl\")"
   ]
  },
  {
   "cell_type": "code",
   "execution_count": null,
   "metadata": {},
   "outputs": [],
   "source": [
    "uoofun(x,y) = (1.0, 0.0)\n",
    "nb = 2\n",
    "D0 = 1.0\n",
    "D = [1.0, 1.0]\n",
    "Cd = [1.2, 1.2]\n",
    "xc = [0.0, 0.0]\n",
    "yc = [-2.0, 2.0]\n",
    "η1 = [0.0, 0.1, 0.25, 0.40, 0.55, 0.7, 0.849, 1.0, 1.15, 1.30, 1.45, 1.6, 1.8, 2, 2.5, 3, 3.5, 4, 5];\n",
    "x1 = x = TA.geomseq(D0/2, 200*D0, 40, 1.12); "
   ]
  },
  {
   "cell_type": "code",
   "execution_count": null,
   "metadata": {},
   "outputs": [],
   "source": [
    "branches = [TA.Branch2d(D[i], Cd[i], xc[i], yc[i]) for i in 1:nb]\n",
    "wm = [TA.WakeModel2d(TA.dragcoeff(b), b.D) for b in branches]\n",
    "wakes = [TA.wake2d(w, x1, η1) for w in wm];\n",
    "#ux,uy = TA.wakeinterference(wakes, branches, uoofun; maxiter=2000, err=1e-4, rlx=0.02)\n",
    "ux, uy, xw, yw, niter= TA.wakeinterference(wakes, branches, uoofun; maxiter=2000, err=1e-5, rlx=0.4)"
   ]
  },
  {
   "cell_type": "code",
   "execution_count": null,
   "metadata": {},
   "outputs": [],
   "source": [
    "r = 1:20\n",
    "for i = 1:nb\n",
    "    plot(xw[i][r], yw[i][r], \"r-\")\n",
    "end\n"
   ]
  },
  {
   "cell_type": "code",
   "execution_count": null,
   "metadata": {},
   "outputs": [],
   "source": [
    "η1 = [0.0, 0.1, 0.25, 0.40, 0.55, 0.7, 0.849, 1.0, 1.15, 1.30, 1.45, 1.6, 1.8, 2, 2.5, 3, 3.5, 4, 5];\n",
    "#η1 = [0.4, 0.849, 1.3];\n",
    "x1 = x = TA.geomseq(D0/2, 200*D0, 40, 1.12); "
   ]
  },
  {
   "cell_type": "code",
   "execution_count": null,
   "metadata": {},
   "outputs": [],
   "source": [
    "nb = 10\n",
    "D0 = 1.0\n",
    "D = fill(D0, nb)\n",
    "Cd = fill(0.35, nb)\n",
    "\n",
    "xc = myrand(nb, 1, 10)\n",
    "yc = myrand(nb, 1, 10)\n",
    "\n",
    "nb = 2\n",
    "D0 = 1.0\n",
    "D = [1.0, 1.0]\n",
    "Cd = [1.2, 1.2]\n",
    "xc = [0.0, 2.0]\n",
    "yc = [-2.0, 2.0]\n",
    "\n",
    "nb = length(D)\n",
    "nw = length(x1)\n",
    "uoofun(x,y) = (1.0, 0.0)\n"
   ]
  },
  {
   "cell_type": "code",
   "execution_count": null,
   "metadata": {},
   "outputs": [],
   "source": [
    "#p = scatter(xc, yc, aspect_ratio=1.0)\n"
   ]
  },
  {
   "cell_type": "code",
   "execution_count": null,
   "metadata": {},
   "outputs": [],
   "source": [
    "include(\"TreeAerodynamics.jl\")"
   ]
  },
  {
   "cell_type": "code",
   "execution_count": null,
   "metadata": {},
   "outputs": [],
   "source": [
    "branches = [TA.Branch2d(D[i], Cd[i], xc[i], yc[i]) for i in 1:nb]\n",
    "wm = [TA.WakeModel2d(TA.dragcoeff(b), b.D) for b in branches]\n",
    "wakes = [TA.wake2d(w, x1, η1) for w in wm];\n",
    "\n",
    "xw = [wakes[i].xw .+ branches[i].xc for i in 1:nb]\n",
    "yw = [fill(branches[i].yc, length(wakes[i].xw)) for i in 1:nb]\n",
    "\n",
    "xwo = [wakes[i].xw .+ branches[i].xc for i in 1:nb]\n",
    "ywo = [fill(branches[i].yc, length(wakes[i].xw)) for i in 1:nb];\n",
    "\n",
    "Ux = zeros(nb)\n",
    "Uy = zeros(nb)\n",
    "\n",
    "nb = length(branches)"
   ]
  },
  {
   "cell_type": "code",
   "execution_count": null,
   "metadata": {},
   "outputs": [],
   "source": [
    "nn = 2\n",
    "TA.wakeinterference!(nn, nn, wakes, branches, xw, yw, xwo, ywo, Ux, Uy, uoofun; maxiter=1, err=1e-3, rlx=0.999, rlxu=0.999, Lerr=10.0)"
   ]
  },
  {
   "cell_type": "code",
   "execution_count": null,
   "metadata": {},
   "outputs": [],
   "source": [
    "Uy"
   ]
  },
  {
   "cell_type": "code",
   "execution_count": null,
   "metadata": {},
   "outputs": [],
   "source": [
    "niter = TA.wakeinterference!(1, nn, wakes, branches, xw, yw, xwo, ywo, Ux, Uy, uoofun; maxiter=1, err=1e-3, rlx=0.99, rlxu=0.99, Lerr=10.0)\n",
    "\n"
   ]
  },
  {
   "cell_type": "code",
   "execution_count": null,
   "metadata": {},
   "outputs": [],
   "source": [
    "r = 1:20\n",
    "p = scatter(xc, yc;aspect_ratio=1)\n",
    "\n",
    "for i = 1:nn\n",
    "    plot!(p, xw[i][r], yw[i][r], aspect_ratio=1)\n",
    "end\n"
   ]
  },
  {
   "cell_type": "code",
   "execution_count": null,
   "metadata": {},
   "outputs": [],
   "source": [
    "Uy"
   ]
  },
  {
   "cell_type": "code",
   "execution_count": null,
   "metadata": {},
   "outputs": [],
   "source": [
    "r = 1:10\n",
    "for i = 1:nb\n",
    "    plot(xw[i][r], yw[i][r], \"r-\")\n",
    "    plot(xw1[i][r], yw1[i][r], \"b--\")\n",
    "end\n"
   ]
  },
  {
   "cell_type": "code",
   "execution_count": null,
   "metadata": {},
   "outputs": [],
   "source": [
    "ux1 = copy(Ux)\n",
    "uy1 = copy(Uy)\n",
    "xw1 = [copy(x) for x in xw]\n",
    "yw1 = [copy(x) for x in yw];\n"
   ]
  },
  {
   "cell_type": "code",
   "execution_count": null,
   "metadata": {},
   "outputs": [],
   "source": [
    "wakes[1].xw"
   ]
  },
  {
   "cell_type": "code",
   "execution_count": null,
   "metadata": {},
   "outputs": [],
   "source": []
  }
 ],
 "metadata": {
  "kernelspec": {
   "display_name": "Julia 1.0.0",
   "language": "julia",
   "name": "julia-1.0"
  },
  "language_info": {
   "file_extension": ".jl",
   "mimetype": "application/julia",
   "name": "julia",
   "version": "1.0.0"
  }
 },
 "nbformat": 4,
 "nbformat_minor": 2
}
