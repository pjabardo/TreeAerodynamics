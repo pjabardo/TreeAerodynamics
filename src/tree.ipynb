{
 "cells": [
  {
   "cell_type": "markdown",
   "metadata": {},
   "source": [
    "# Exemplo de cálculo de interferência"
   ]
  },
  {
   "cell_type": "code",
   "execution_count": 1,
   "metadata": {},
   "outputs": [
    {
     "data": {
      "text/plain": [
       "Plots.GRBackend()"
      ]
     },
     "execution_count": 1,
     "metadata": {},
     "output_type": "execute_result"
    }
   ],
   "source": [
    "using Plots\n",
    "#gr(size=(900,600), html_output_format=:png)\n",
    "#pyplot()\n",
    "gr(html_output_format=:png)\n"
   ]
  },
  {
   "cell_type": "code",
   "execution_count": 2,
   "metadata": {},
   "outputs": [
    {
     "data": {
      "text/plain": [
       "myrand (generic function with 3 methods)"
      ]
     },
     "execution_count": 2,
     "metadata": {},
     "output_type": "execute_result"
    }
   ],
   "source": [
    "myrand(n, xmin=0.0, xmax=1.0) = xmin .+ rand(n) * (xmax-xmin)\n",
    "    "
   ]
  },
  {
   "cell_type": "code",
   "execution_count": 13,
   "metadata": {},
   "outputs": [
    {
     "name": "stderr",
     "output_type": "stream",
     "text": [
      "WARNING: replacing module TreeAerodynamics.\n"
     ]
    },
    {
     "data": {
      "text/plain": [
       "Main.TreeAerodynamics"
      ]
     },
     "execution_count": 13,
     "metadata": {},
     "output_type": "execute_result"
    }
   ],
   "source": [
    "include(\"TreeAerodynamics.jl\")"
   ]
  },
  {
   "cell_type": "code",
   "execution_count": 14,
   "metadata": {},
   "outputs": [],
   "source": [
    "uoofun(x,y) = (1.0, 0.0)\n",
    "nb = 2\n",
    "D0 = 1.0\n",
    "D = [1.0, 1.0]\n",
    "Cd = [1.2, 1.2]\n",
    "xc = [0.0, 0.0]\n",
    "yc = [-2.0, 2.0]\n",
    "η1 = [0.0, 0.1, 0.25, 0.40, 0.55, 0.7, 0.849, 1.0, 1.15, 1.30, 1.45, 1.6, 1.8, 2, 2.5, 3, 3.5, 4, 5];\n",
    "x1 = x = TA.geomseq(D0/2, 200*D0, 40, 1.12); "
   ]
  },
  {
   "cell_type": "code",
   "execution_count": 15,
   "metadata": {},
   "outputs": [
    {
     "name": "stdout",
     "output_type": "stream",
     "text": [
      "1; 0.02695294444031763\n",
      "2; 0.021551689787046285\n",
      "3; 0.017233387570009587\n",
      "4; 0.013780702623530617\n",
      "5; 0.011019989260912622\n",
      "6; 0.008812482457292773\n",
      "7; 0.007047274476523223\n",
      "8; 0.005635711710613833\n",
      "9; 0.004506922393969756\n",
      "10; 0.00360424556584547\n",
      "11; 0.002882378774045031\n",
      "12; 0.002305099289029576\n",
      "13; 0.0018434431474559296\n",
      "14; 0.0014742498088383751\n",
      "15; 0.0011789988673267839\n",
      "16; 0.0009428801136505023\n",
      "17; 0.0007540500768511219\n",
      "18; 0.0006030376118410993\n",
      "19; 0.0004822686274649525\n",
      "20; 0.00038568605915570084\n",
      "21; 0.00030844598885226143\n",
      "22; 0.0002466746477290255\n",
      "23; 0.0001972740995641771\n",
      "24; 0.00015776684966009244\n",
      "25; 0.00012617158001666448\n",
      "26; 0.00010090377478124551\n",
      "27; 8.069624974208281e-5\n",
      "28; 6.453559876903533e-5\n",
      "29; 5.161136894920107e-5\n",
      "30; 4.127541489060485e-5\n",
      "31; 3.300939340083672e-5\n",
      "32; 2.639876813866418e-5\n",
      "33; 2.111202041264401e-5\n",
      "34; 1.6884023447960583e-5\n",
      "35; 1.3502746281857797e-5\n",
      "36; 1.0798620451293872e-5\n",
      "37; 8.636036191202179e-6\n",
      "38; 6.906541665616106e-6\n",
      "39; 5.523404166554724e-6\n",
      "40; 4.417260522155547e-6\n",
      "41; 3.5326385800435456e-6\n",
      "42; 2.8251753188719697e-6\n",
      "43; 2.2593920765180686e-6\n",
      "44; 1.806915322689201e-6\n",
      "45; 1.4450537497608107e-6\n",
      "46; 1.1556603223897288e-6\n",
      "47; 9.24222218919718e-7\n"
     ]
    },
    {
     "data": {
      "text/plain": [
       "([0.997952, 0.997952], [-0.0269068, 0.0269068], 47)"
      ]
     },
     "execution_count": 15,
     "metadata": {},
     "output_type": "execute_result"
    }
   ],
   "source": [
    "branches = [TA.Branch2d(D[i], Cd[i], xc[i], yc[i]) for i in 1:nb]\n",
    "wm = [TA.WakeModel2d(TA.dragcoeff(b), b.D) for b in branches]\n",
    "wakes = [TA.wake2d(w, x1, η1) for w in wm];\n",
    "#ux,uy = TA.wakeinterference(wakes, branches, uoofun; maxiter=2000, err=1e-4, rlx=0.02)\n",
    "ux, uy, niter= TA.fixedwakeinterference(wakes, branches, uoofun; maxiter=2000, err=1e-6, rlx=0.2)"
   ]
  },
  {
   "cell_type": "code",
   "execution_count": null,
   "metadata": {},
   "outputs": [],
   "source": [
    "r = 1:20\n",
    "for i = 1:nb\n",
    "    plot(xw[i][r], yw[i][r], \"r-\")\n",
    "end\n"
   ]
  },
  {
   "cell_type": "code",
   "execution_count": 16,
   "metadata": {},
   "outputs": [],
   "source": [
    "η1 = [0.0, 0.1, 0.25, 0.40, 0.55, 0.7, 0.849, 1.0, 1.15, 1.30, 1.45, 1.6, 1.8, 2, 2.5, 3, 3.5, 4, 5];\n",
    "#η1 = [0.4, 0.849, 1.3];\n",
    "x1 = x = TA.geomseq(D0/2, 200*D0, 40, 1.12); "
   ]
  },
  {
   "cell_type": "code",
   "execution_count": 22,
   "metadata": {},
   "outputs": [
    {
     "data": {
      "text/plain": [
       "uoofun (generic function with 1 method)"
      ]
     },
     "execution_count": 22,
     "metadata": {},
     "output_type": "execute_result"
    }
   ],
   "source": [
    "nb = 10\n",
    "D0 = 1.0\n",
    "D = fill(D0, nb)\n",
    "Cd = fill(0.35, nb)\n",
    "\n",
    "xc = myrand(nb, 1, 10)\n",
    "yc = myrand(nb, 1, 10)\n",
    "\n",
    "nw = length(x1)\n",
    "uoofun(x,y) = (1.0, 0.0)\n"
   ]
  },
  {
   "cell_type": "code",
   "execution_count": 31,
   "metadata": {},
   "outputs": [
    {
     "data": {
      "image/png": "[encoded data removed]"
     },
     "execution_count": 31,
     "metadata": {},
     "output_type": "execute_result"
    }
   ],
   "source": [
    "scatter(xc, yc, aspect_ratio=1.0)\n",
    "\n",
    "annotate!(xc, yc, 1:nb, :bottom)\n"
   ]
  },
  {
   "cell_type": "code",
   "execution_count": 24,
   "metadata": {},
   "outputs": [
    {
     "name": "stderr",
     "output_type": "stream",
     "text": [
      "WARNING: replacing module TreeAerodynamics.\n"
     ]
    },
    {
     "data": {
      "text/plain": [
       "Main.TreeAerodynamics"
      ]
     },
     "execution_count": 24,
     "metadata": {},
     "output_type": "execute_result"
    }
   ],
   "source": [
    "include(\"TreeAerodynamics.jl\")"
   ]
  },
  {
   "cell_type": "code",
   "execution_count": 25,
   "metadata": {},
   "outputs": [
    {
     "data": {
      "text/plain": [
       "10"
      ]
     },
     "execution_count": 25,
     "metadata": {},
     "output_type": "execute_result"
    }
   ],
   "source": [
    "branches = [TA.Branch2d(D[i], Cd[i], xc[i], yc[i]) for i in 1:nb]\n",
    "wm = [TA.WakeModel2d(TA.dragcoeff(b), b.D) for b in branches]\n",
    "wakes = [TA.wake2d(w, x1, η1) for w in wm];\n",
    "\n",
    "xw = [wakes[i].xw .+ branches[i].xc for i in 1:nb]\n",
    "yw = [fill(branches[i].yc, length(wakes[i].xw)) for i in 1:nb]\n",
    "\n",
    "xwo = [wakes[i].xw .+ branches[i].xc for i in 1:nb]\n",
    "ywo = [fill(branches[i].yc, length(wakes[i].xw)) for i in 1:nb];\n",
    "\n",
    "Ux = zeros(nb)\n",
    "Uy = zeros(nb)\n",
    "\n",
    "nb = length(branches)"
   ]
  },
  {
   "cell_type": "code",
   "execution_count": 26,
   "metadata": {},
   "outputs": [
    {
     "name": "stdout",
     "output_type": "stream",
     "text": [
      "1; 0.16713789378757027\n",
      "2; 0.13197892893428875\n",
      "3; 0.10423598917206867\n",
      "4; 0.08234041592141095\n",
      "5; 0.06505639070980596\n",
      "6; 0.051410055698655865\n",
      "7; 0.04063379435582426\n",
      "8; 0.03212241309938779\n",
      "9; 0.025398669066256097\n",
      "10; 0.02008614079870441\n",
      "11; 0.015887870561137274\n",
      "12; 0.012569545196494891\n",
      "13; 0.009946247329706503\n",
      "14; 0.007872016317154729\n",
      "15; 0.006231621122866127\n",
      "16; 0.004946875074862356\n",
      "17; 0.00392938303181789\n",
      "18; 0.0031216592052932812\n",
      "19; 0.0024803594980771226\n",
      "20; 0.00197111570367392\n",
      "21; 0.0015666727080247966\n",
      "22; 0.0012454131221402154\n",
      "23; 0.0009901885862180215\n",
      "24; 0.0007873938610495346\n",
      "25; 0.0006262331614153016\n",
      "26; 0.0004981387325824205\n",
      "27; 0.0003963100114410256\n",
      "28; 0.0003153483110830413\n",
      "29; 0.00025096718701855814\n",
      "30; 0.00019976277324185165\n",
      "31; 0.00015903164493280553\n",
      "32; 0.00012662635174742753\n",
      "33; 0.00010084081382932819\n",
      "34; 8.031939432395774e-5\n",
      "35; 6.398474637392404e-5\n",
      "36; 5.098054960750442e-5\n",
      "37; 4.062605675259068e-5\n",
      "38; 3.23800092296711e-5\n",
      "39; 2.581198622797487e-5\n",
      "40; 2.0579652494467915e-5\n",
      "41; 1.6410687629808685e-5\n",
      "42; 1.3088431405683387e-5\n",
      "43; 1.0440479185525042e-5\n",
      "44; 8.329619745728323e-6\n",
      "45; 6.6466332491188496e-6\n",
      "46; 5.304566655706111e-6\n",
      "47; 4.234182755524785e-6\n",
      "48; 3.3803416367161887e-6\n",
      "49; 2.6991230953621326e-6\n",
      "50; 2.1555378820758975e-6\n",
      "51; 1.721707016510976e-6\n",
      "52; 1.375413203441589e-6\n",
      "53; 1.0989481097345433e-6\n",
      "54; 8.781949346614581e-7\n"
     ]
    },
    {
     "data": {
      "text/plain": [
       "([0.976091, 0.846026, 0.871755, 0.87218, 0.859956, 0.975126, 0.996045, 0.84066, 0.988648, 0.968799], [-0.0137415, 0.0368811, 0.0253102, -0.0451939, -0.0485541, 0.0274516, -0.0308349, 0.0351131, 0.0243951, -0.0178876], 54)"
      ]
     },
     "execution_count": 26,
     "metadata": {},
     "output_type": "execute_result"
    }
   ],
   "source": [
    "Ux, Uy, niter = TA.fixedwakeinterference(wakes, branches, uoofun; maxiter=2000, err=1e-6, rlx=0.2)"
   ]
  },
  {
   "cell_type": "code",
   "execution_count": 32,
   "metadata": {},
   "outputs": [
    {
     "data": {
      "text/plain": [
       "10×3 Array{Float64,2}:\n",
       "  1.0  0.976091  -0.0137415\n",
       "  2.0  0.846026   0.0368811\n",
       "  3.0  0.871755   0.0253102\n",
       "  4.0  0.87218   -0.0451939\n",
       "  5.0  0.859956  -0.0485541\n",
       "  6.0  0.975126   0.0274516\n",
       "  7.0  0.996045  -0.0308349\n",
       "  8.0  0.84066    0.0351131\n",
       "  9.0  0.988648   0.0243951\n",
       " 10.0  0.968799  -0.0178876"
      ]
     },
     "execution_count": 32,
     "metadata": {},
     "output_type": "execute_result"
    }
   ],
   "source": [
    "hcat(1:nb, Ux, Uy)"
   ]
  },
  {
   "cell_type": "code",
   "execution_count": null,
   "metadata": {},
   "outputs": [],
   "source": [
    "niter = TA.wakeinterference!(1, nn, wakes, branches, xw, yw, xwo, ywo, Ux, Uy, uoofun; maxiter=1, err=1e-3, rlx=0.99, rlxu=0.99, Lerr=10.0)\n",
    "\n"
   ]
  },
  {
   "cell_type": "code",
   "execution_count": null,
   "metadata": {},
   "outputs": [],
   "source": [
    "r = 1:20\n",
    "p = scatter(xc, yc;aspect_ratio=1)\n",
    "\n",
    "for i = 1:nn\n",
    "    plot!(p, xw[i][r], yw[i][r], aspect_ratio=1)\n",
    "end\n"
   ]
  },
  {
   "cell_type": "code",
   "execution_count": null,
   "metadata": {},
   "outputs": [],
   "source": [
    "Uy"
   ]
  },
  {
   "cell_type": "code",
   "execution_count": null,
   "metadata": {},
   "outputs": [],
   "source": [
    "r = 1:10\n",
    "for i = 1:nb\n",
    "    plot(xw[i][r], yw[i][r], \"r-\")\n",
    "    plot(xw1[i][r], yw1[i][r], \"b--\")\n",
    "end\n"
   ]
  },
  {
   "cell_type": "code",
   "execution_count": null,
   "metadata": {},
   "outputs": [],
   "source": [
    "ux1 = copy(Ux)\n",
    "uy1 = copy(Uy)\n",
    "xw1 = [copy(x) for x in xw]\n",
    "yw1 = [copy(x) for x in yw];\n"
   ]
  },
  {
   "cell_type": "code",
   "execution_count": null,
   "metadata": {},
   "outputs": [],
   "source": [
    "wakes[1].xw"
   ]
  },
  {
   "cell_type": "code",
   "execution_count": null,
   "metadata": {},
   "outputs": [],
   "source": []
  }
 ],
 "metadata": {
  "kernelspec": {
   "display_name": "Julia 1.0.0",
   "language": "julia",
   "name": "julia-1.0"
  },
  "language_info": {
   "file_extension": ".jl",
   "mimetype": "application/julia",
   "name": "julia",
   "version": "1.0.0"
  }
 },
 "nbformat": 4,
 "nbformat_minor": 2
}
